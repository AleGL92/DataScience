{
 "cells": [
  {
   "cell_type": "markdown",
   "metadata": {},
   "source": [
    "NLP PREPROCESSING FOR YELP AND AMAZON REVIEWS"
   ]
  },
  {
   "cell_type": "code",
   "execution_count": 1,
   "metadata": {},
   "outputs": [
    {
     "name": "stdout",
     "output_type": "stream",
     "text": [
      "   Unnamed: 0                                               text  sentiment\n",
      "0           0  So there is no way for me to plug it in here i...          0\n",
      "1           1                         Good case Excellent value.          1\n",
      "2           2                             Great for the jawbone.          1\n",
      "3           3  Tied to charger for conversations lasting more...          0\n",
      "4           4                                  The mic is great.          1\n"
     ]
    }
   ],
   "source": [
    "# This time we'll use Long Short-Term Memories (LSTMs) to try to get better results\n",
    "import numpy as np\n",
    "import pandas as pd\n",
    "import tensorflow as tf\n",
    "import tensorflow_datasets as tfds\n",
    "from tensorflow.keras.preprocessing.text import Tokenizer\n",
    "from tensorflow.keras.preprocessing.sequence import pad_sequences\n",
    "\n",
    "path = 'https://raw.githubusercontent.com/AleGL92/TensorFlow/main/NLP/combined_data.csv'\n",
    "ds = pd.read_csv(path)\n",
    "print(ds.head())\n",
    "\n",
    "sentences = ds['text'].tolist()\n",
    "labels = ds['sentiment'].tolist()"
   ]
  },
  {
   "cell_type": "markdown",
   "metadata": {},
   "source": [
    "1. Create a subword dataset"
   ]
  },
  {
   "cell_type": "code",
   "execution_count": 2,
   "metadata": {},
   "outputs": [
    {
     "name": "stdout",
     "output_type": "stream",
     "text": [
      "Vocab size is  999\n"
     ]
    }
   ],
   "source": [
    "vocab_size = 1000\n",
    "tokenizer = tfds.deprecated.text.SubwordTextEncoder.build_from_corpus(sentences, vocab_size, max_subword_length=5)\n",
    "# SubwordTextEncoder.build_from_corpus() will create a tokenizer with the 1000 most common subwords, after cutting \n",
    "# each word into subwords, having at most 5 characters.\n",
    "print(\"Vocab size is \", tokenizer.vocab_size)"
   ]
  },
  {
   "cell_type": "code",
   "execution_count": 3,
   "metadata": {},
   "outputs": [
    {
     "name": "stdout",
     "output_type": "stream",
     "text": [
      "I have to jiggle the plug to get it to line up right to get decent volume.\n",
      "[4, 31, 6, 849, 162, 450, 12, 1, 600, 438, 775, 6, 175, 14, 6, 55, 213, 159, 474, 775, 6, 175, 614, 380, 295, 148, 72, 789]\n",
      "I \n",
      "have \n",
      "to \n",
      "j\n",
      "ig\n",
      "gl\n",
      "e \n",
      "the \n",
      "pl\n",
      "ug\n",
      " \n",
      "to \n",
      "get \n",
      "it \n",
      "to \n",
      "li\n",
      "ne \n",
      "up \n",
      "right\n",
      " \n",
      "to \n",
      "get \n",
      "dec\n",
      "ent \n",
      "vo\n",
      "lu\n",
      "me\n",
      ".\n"
     ]
    }
   ],
   "source": [
    "# Check that the tokenizer works appropriately\n",
    "num = 5\n",
    "print(sentences[num])\n",
    "encoded = tokenizer.encode(sentences[num])\n",
    "print(encoded)\n",
    "\n",
    "# Separately print out each subword, decoded\n",
    "for i in encoded:\n",
    "    print(tokenizer.decode([i]))\n"
   ]
  },
  {
   "cell_type": "code",
   "execution_count": 4,
   "metadata": {},
   "outputs": [],
   "source": [
    "# Now we create the sequences that will be used for training. This is the same as using the text_to_sequences command that\n",
    "# we used in the previous code.\n",
    "for i, sentence in enumerate(sentences):\n",
    "    sentences[i] = tokenizer.encode(sentence)\n",
    "\n",
    "# And finally, we pad the sequences to have them all with the same length and split into train and test sets.\n",
    "max_length = 50\n",
    "trunc_type='post'\n",
    "padding_type='post'\n",
    "\n",
    "# Pad all sequences\n",
    "sequences_padded = pad_sequences(sentences, maxlen=max_length, \n",
    "                                padding=padding_type, truncating=trunc_type)\n",
    "\n",
    "# Separate out the sentences and labels into training and test sets\n",
    "training_size = int(len(sentences) * 0.8)\n",
    "\n",
    "training_sequences = sequences_padded[0:training_size]\n",
    "testing_sequences = sequences_padded[training_size:]\n",
    "training_labels = labels[0:training_size]\n",
    "testing_labels = labels[training_size:]\n",
    "\n",
    "# Make labels into numpy arrays for use with the network later\n",
    "training_labels_final = np.array(training_labels)\n",
    "testing_labels_final = np.array(testing_labels)"
   ]
  },
  {
   "cell_type": "markdown",
   "metadata": {},
   "source": [
    "2. Create the model"
   ]
  },
  {
   "cell_type": "code",
   "execution_count": 5,
   "metadata": {},
   "outputs": [
    {
     "name": "stdout",
     "output_type": "stream",
     "text": [
      "Epoch 1/30\n",
      "50/50 [==============================] - 1s 4ms/step - loss: 0.6923 - accuracy: 0.5700 - val_loss: 0.6902 - val_accuracy: 0.6942\n",
      "Epoch 2/30\n",
      "50/50 [==============================] - 0s 2ms/step - loss: 0.6873 - accuracy: 0.6755 - val_loss: 0.6846 - val_accuracy: 0.7243\n",
      "Epoch 3/30\n",
      "50/50 [==============================] - 0s 2ms/step - loss: 0.6793 - accuracy: 0.7062 - val_loss: 0.6833 - val_accuracy: 0.5614\n",
      "Epoch 4/30\n",
      "50/50 [==============================] - 0s 2ms/step - loss: 0.6670 - accuracy: 0.7125 - val_loss: 0.6703 - val_accuracy: 0.6717\n",
      "Epoch 5/30\n",
      "50/50 [==============================] - 0s 2ms/step - loss: 0.6492 - accuracy: 0.7489 - val_loss: 0.6567 - val_accuracy: 0.6967\n",
      "Epoch 6/30\n",
      "50/50 [==============================] - 0s 2ms/step - loss: 0.6259 - accuracy: 0.7790 - val_loss: 0.6337 - val_accuracy: 0.7519\n",
      "Epoch 7/30\n",
      "50/50 [==============================] - 0s 2ms/step - loss: 0.5966 - accuracy: 0.8060 - val_loss: 0.6193 - val_accuracy: 0.7393\n",
      "Epoch 8/30\n",
      "50/50 [==============================] - 0s 2ms/step - loss: 0.5628 - accuracy: 0.8180 - val_loss: 0.5915 - val_accuracy: 0.7820\n",
      "Epoch 9/30\n",
      "50/50 [==============================] - 0s 2ms/step - loss: 0.5274 - accuracy: 0.8230 - val_loss: 0.5651 - val_accuracy: 0.7820\n",
      "Epoch 10/30\n",
      "50/50 [==============================] - 0s 2ms/step - loss: 0.4923 - accuracy: 0.8412 - val_loss: 0.5510 - val_accuracy: 0.7845\n",
      "Epoch 11/30\n",
      "50/50 [==============================] - 0s 2ms/step - loss: 0.4566 - accuracy: 0.8537 - val_loss: 0.5411 - val_accuracy: 0.7594\n",
      "Epoch 12/30\n",
      "50/50 [==============================] - 0s 2ms/step - loss: 0.4224 - accuracy: 0.8657 - val_loss: 0.5312 - val_accuracy: 0.7519\n",
      "Epoch 13/30\n",
      "50/50 [==============================] - 0s 2ms/step - loss: 0.3943 - accuracy: 0.8600 - val_loss: 0.5174 - val_accuracy: 0.7544\n",
      "Epoch 14/30\n",
      "50/50 [==============================] - 0s 2ms/step - loss: 0.3652 - accuracy: 0.8801 - val_loss: 0.5047 - val_accuracy: 0.7519\n",
      "Epoch 15/30\n",
      "50/50 [==============================] - 0s 2ms/step - loss: 0.3413 - accuracy: 0.8858 - val_loss: 0.5063 - val_accuracy: 0.7544\n",
      "Epoch 16/30\n",
      "50/50 [==============================] - 0s 2ms/step - loss: 0.3210 - accuracy: 0.8952 - val_loss: 0.5031 - val_accuracy: 0.7469\n",
      "Epoch 17/30\n",
      "50/50 [==============================] - 0s 2ms/step - loss: 0.3035 - accuracy: 0.9002 - val_loss: 0.4983 - val_accuracy: 0.7494\n",
      "Epoch 18/30\n",
      "50/50 [==============================] - 0s 2ms/step - loss: 0.2863 - accuracy: 0.9052 - val_loss: 0.5028 - val_accuracy: 0.7494\n",
      "Epoch 19/30\n",
      "50/50 [==============================] - 0s 2ms/step - loss: 0.2721 - accuracy: 0.9058 - val_loss: 0.4973 - val_accuracy: 0.7694\n",
      "Epoch 20/30\n",
      "50/50 [==============================] - 0s 2ms/step - loss: 0.2600 - accuracy: 0.9077 - val_loss: 0.5308 - val_accuracy: 0.7494\n",
      "Epoch 21/30\n",
      "50/50 [==============================] - 0s 2ms/step - loss: 0.2464 - accuracy: 0.9146 - val_loss: 0.5165 - val_accuracy: 0.7469\n",
      "Epoch 22/30\n",
      "50/50 [==============================] - 0s 2ms/step - loss: 0.2371 - accuracy: 0.9196 - val_loss: 0.5231 - val_accuracy: 0.7494\n",
      "Epoch 23/30\n",
      "50/50 [==============================] - 0s 2ms/step - loss: 0.2263 - accuracy: 0.9215 - val_loss: 0.5410 - val_accuracy: 0.7419\n",
      "Epoch 24/30\n",
      "50/50 [==============================] - 0s 2ms/step - loss: 0.2176 - accuracy: 0.9259 - val_loss: 0.5291 - val_accuracy: 0.7544\n",
      "Epoch 25/30\n",
      "50/50 [==============================] - 0s 2ms/step - loss: 0.2101 - accuracy: 0.9278 - val_loss: 0.5409 - val_accuracy: 0.7494\n",
      "Epoch 26/30\n",
      "50/50 [==============================] - 0s 2ms/step - loss: 0.2002 - accuracy: 0.9328 - val_loss: 0.5501 - val_accuracy: 0.7544\n",
      "Epoch 27/30\n",
      "50/50 [==============================] - 0s 2ms/step - loss: 0.1920 - accuracy: 0.9397 - val_loss: 0.5522 - val_accuracy: 0.7569\n",
      "Epoch 28/30\n",
      "50/50 [==============================] - 0s 2ms/step - loss: 0.1856 - accuracy: 0.9391 - val_loss: 0.5893 - val_accuracy: 0.7318\n",
      "Epoch 29/30\n",
      "50/50 [==============================] - 0s 2ms/step - loss: 0.1799 - accuracy: 0.9391 - val_loss: 0.5902 - val_accuracy: 0.7444\n",
      "Epoch 30/30\n",
      "50/50 [==============================] - 0s 2ms/step - loss: 0.1718 - accuracy: 0.9448 - val_loss: 0.6126 - val_accuracy: 0.7343\n"
     ]
    }
   ],
   "source": [
    "embedding_dim = 16\n",
    "\n",
    "model = tf.keras.Sequential([\n",
    "    tf.keras.layers.Embedding(vocab_size, embedding_dim, input_length=max_length),\n",
    "    tf.keras.layers.GlobalAveragePooling1D(), \n",
    "    tf.keras.layers.Dense(6, activation='relu'),\n",
    "    tf.keras.layers.Dense(1, activation='sigmoid')\n",
    "])\n",
    "# model.summary()\n",
    "\n",
    "num_epochs = 30\n",
    "model.compile(loss='binary_crossentropy',optimizer='adam',metrics=['accuracy'])\n",
    "history = model.fit(training_sequences, training_labels_final, epochs=num_epochs, validation_data=(testing_sequences, testing_labels_final))\n",
    "# In the last epoch we got val_accuracy: 0.7469 wich appears to be good."
   ]
  },
  {
   "cell_type": "code",
   "execution_count": 6,
   "metadata": {},
   "outputs": [
    {
     "data": {
      "image/png": "[encoded data removed]",
      "text/plain": [
       "<Figure size 432x288 with 1 Axes>"
      ]
     },
     "metadata": {
      "needs_background": "light"
     },
     "output_type": "display_data"
    },
    {
     "data": {
      "image/png": "[encoded data removed]",
      "text/plain": [
       "<Figure size 432x288 with 1 Axes>"
      ]
     },
     "metadata": {
      "needs_background": "light"
     },
     "output_type": "display_data"
    }
   ],
   "source": [
    "# Plotting the accuracy and loss. This is a very easy method to plot them.\n",
    "import matplotlib.pyplot as plt\n",
    "\n",
    "\n",
    "def plot_graphs(history, string):\n",
    "    plt.plot(history.history[string])\n",
    "    plt.plot(history.history['val_'+string])\n",
    "    plt.xlabel(\"Epochs\")\n",
    "    plt.ylabel(string)\n",
    "    plt.legend([string, 'val_'+string])\n",
    "    plt.show()\n",
    "\n",
    "plot_graphs(history, \"accuracy\")\n",
    "plot_graphs(history, \"loss\")\n",
    "# Accuracy keeps going up with more epochs, but it's actually the same from epoch 15 and on, as we\n",
    "# can see in the val_accuracy line.\n",
    "# The loss is supposed to get smaller with more epochs, but it gets the best value, also around 15 epochs\n",
    "# from where it starts growing again."
   ]
  },
  {
   "cell_type": "markdown",
   "metadata": {},
   "source": [
    "2. Create functions for having the model and the sentences as an input"
   ]
  },
  {
   "cell_type": "code",
   "execution_count": 7,
   "metadata": {},
   "outputs": [],
   "source": [
    "# To test different models with new reviews, we are creating a function that takes as input\n",
    "# both model and reviews. This will make it easier to compare.\n",
    "\n",
    "def predict_review(model, new_sentences, maxlen = max_length, show_padded_sequence = True):\n",
    "    # Keep the original sentences so that we can keep using them later\n",
    "    # Create an array to hold the encoded sequences\n",
    "    new_sequences = []\n",
    "\n",
    "    # Convert the new reviews to sequences\n",
    "    for i, frvw in enumerate(new_sentences):\n",
    "        new_sequences.append(tokenizer.encode(frvw))\n",
    "\n",
    "    trunc_type='post' \n",
    "    padding_type='post'\n",
    "\n",
    "    # Pad all sequences for the new reviews\n",
    "    new_reviews_padded = pad_sequences(new_sequences, maxlen=max_length, \n",
    "                                    padding=padding_type, truncating=trunc_type)             \n",
    "\n",
    "    classes = model.predict(new_reviews_padded)\n",
    "\n",
    "    # The closer the class is to 1, the more positive the review is\n",
    "    for x in range(len(new_sentences)):\n",
    "        # We can see the padded sequence if desired\n",
    "        # Print the sequence\n",
    "        if (show_padded_sequence):\n",
    "            print(new_reviews_padded[x])\n",
    "        # Print the review as text\n",
    "        print(new_sentences[x])\n",
    "        # Print its predicted class\n",
    "        print(classes[x])\n",
    "        print(\"\\n\")"
   ]
  },
  {
   "cell_type": "code",
   "execution_count": 8,
   "metadata": {},
   "outputs": [
    {
     "name": "stdout",
     "output_type": "stream",
     "text": [
      "[  4 281  16  25   0   0   0   0   0   0   0   0   0   0   0   0   0   0\n",
      "   0   0   0   0   0   0   0   0   0   0   0   0   0   0   0   0   0   0\n",
      "   0   0   0   0   0   0   0   0   0   0   0   0   0   0]\n",
      "I love this phone\n",
      "[0.92816544]\n",
      "\n",
      "\n",
      "[812 227 864 100 775   9 525 843   0   0   0   0   0   0   0   0   0   0\n",
      "   0   0   0   0   0   0   0   0   0   0   0   0   0   0   0   0   0   0\n",
      "   0   0   0   0   0   0   0   0   0   0   0   0   0   0]\n",
      "Everything was cold\n",
      "[0.12308329]\n",
      "\n",
      "\n",
      "[812 227 864 100 775   9 109   8 333 731  24  61   4 171  59  77   0   0\n",
      "   0   0   0   0   0   0   0   0   0   0   0   0   0   0   0   0   0   0\n",
      "   0   0   0   0   0   0   0   0   0   0   0   0   0   0]\n",
      "Everything was hot exactly as I wanted\n",
      "[0.3434775]\n",
      "\n",
      "\n",
      "[812 227 864 100 775   9 157 359 853   0   0   0   0   0   0   0   0   0\n",
      "   0   0   0   0   0   0   0   0   0   0   0   0   0   0   0   0   0   0\n",
      "   0   0   0   0   0   0   0   0   0   0   0   0   0   0]\n",
      "Everything was green\n",
      "[0.11093381]\n",
      "\n",
      "\n",
      "[  1 109 228 540 237 635 241 423 340  89 298   0   0   0   0   0   0   0\n",
      "   0   0   0   0   0   0   0   0   0   0   0   0   0   0   0   0   0   0\n",
      "   0   0   0   0   0   0   0   0   0   0   0   0   0   0]\n",
      "the host seated us immediately\n",
      "[0.57991856]\n",
      "\n",
      "\n",
      "[154 242  47 635 341  12 569 547 147 319 775 125  85   0   0   0   0   0\n",
      "   0   0   0   0   0   0   0   0   0   0   0   0   0   0   0   0   0   0\n",
      "   0   0   0   0   0   0   0   0   0   0   0   0   0   0]\n",
      "they gave us free chocolate cake\n",
      "[0.7565109]\n",
      "\n",
      "\n",
      "[158 190 853 782   8 607 775 210 232 146 775 470  67 305 101  15   1 328\n",
      " 296  26  19   1 661 641 195   0   0   0   0   0   0   0   0   0   0   0\n",
      "   0   0   0   0   0   0   0   0   0   0   0   0   0   0]\n",
      "we couldn't hear each other talk because of the shouting in the kitchen\n",
      "[0.0161851]\n",
      "\n",
      "\n"
     ]
    }
   ],
   "source": [
    "fake_reviews = [\"I love this phone\", \n",
    "                \"Everything was cold\",\n",
    "                \"Everything was hot exactly as I wanted\", \n",
    "                \"Everything was green\", \n",
    "                \"the host seated us immediately\",\n",
    "                \"they gave us free chocolate cake\", \n",
    "                \"we couldn't hear each other talk because of the shouting in the kitchen\"\n",
    "]\n",
    "predict_review(model, fake_reviews)\n",
    "# We don't see the reviews separated as subwords, because that was used just for training the model"
   ]
  },
  {
   "cell_type": "code",
   "execution_count": 9,
   "metadata": {},
   "outputs": [],
   "source": [
    "# In the same direction as the previous lines, we'll define a function that takes the model, \n",
    "# compiles it, trains it and graphs the accuracy and loss, so that we can compare results\n",
    "def fit_model_now (model, sentences) :\n",
    "    model.compile(loss='binary_crossentropy',optimizer='adam',metrics=['accuracy'])\n",
    "    model.summary()\n",
    "    history = model.fit(training_sequences, training_labels_final, epochs=num_epochs, \n",
    "                        validation_data=(testing_sequences, testing_labels_final))\n",
    "    return history\n",
    "\n",
    "def plot_results (history):\n",
    "    plot_graphs(history, \"accuracy\")\n",
    "    plot_graphs(history, \"loss\")\n",
    "\n",
    "def fit_model_and_show_results (model, sentences):\n",
    "    history = fit_model_now(model, sentences)\n",
    "    plot_results(history)\n",
    "    predict_review(model, sentences)"
   ]
  },
  {
   "cell_type": "markdown",
   "metadata": {},
   "source": [
    "3. Add a bidirectional LSTM"
   ]
  },
  {
   "cell_type": "code",
   "execution_count": 10,
   "metadata": {},
   "outputs": [
    {
     "name": "stdout",
     "output_type": "stream",
     "text": [
      "Model: \"sequential_1\"\n",
      "_________________________________________________________________\n",
      " Layer (type)                Output Shape              Param #   \n",
      "=================================================================\n",
      " embedding_1 (Embedding)     (None, 50, 16)            16000     \n",
      "                                                                 \n",
      " bidirectional (Bidirectiona  (None, 32)               4224      \n",
      " l)                                                              \n",
      "                                                                 \n",
      " dense_2 (Dense)             (None, 6)                 198       \n",
      "                                                                 \n",
      " dense_3 (Dense)             (None, 1)                 7         \n",
      "                                                                 \n",
      "=================================================================\n",
      "Total params: 20,429\n",
      "Trainable params: 20,429\n",
      "Non-trainable params: 0\n",
      "_________________________________________________________________\n",
      "Epoch 1/30\n",
      "50/50 [==============================] - 5s 29ms/step - loss: 0.6918 - accuracy: 0.5041 - val_loss: 0.7013 - val_accuracy: 0.4110\n",
      "Epoch 2/30\n",
      "50/50 [==============================] - 1s 16ms/step - loss: 0.6761 - accuracy: 0.5392 - val_loss: 0.6952 - val_accuracy: 0.4737\n",
      "Epoch 3/30\n",
      "50/50 [==============================] - 1s 17ms/step - loss: 0.5517 - accuracy: 0.7552 - val_loss: 0.5113 - val_accuracy: 0.7820\n",
      "Epoch 4/30\n",
      "50/50 [==============================] - 1s 16ms/step - loss: 0.3860 - accuracy: 0.8393 - val_loss: 0.5115 - val_accuracy: 0.7644\n",
      "Epoch 5/30\n",
      "50/50 [==============================] - 1s 17ms/step - loss: 0.3041 - accuracy: 0.8801 - val_loss: 0.5432 - val_accuracy: 0.7594\n",
      "Epoch 6/30\n",
      "50/50 [==============================] - 1s 17ms/step - loss: 0.2281 - accuracy: 0.9083 - val_loss: 0.6772 - val_accuracy: 0.7494\n",
      "Epoch 7/30\n",
      "50/50 [==============================] - 1s 16ms/step - loss: 0.1862 - accuracy: 0.9410 - val_loss: 0.6970 - val_accuracy: 0.7519\n",
      "Epoch 8/30\n",
      "50/50 [==============================] - 1s 16ms/step - loss: 0.1557 - accuracy: 0.9554 - val_loss: 0.8390 - val_accuracy: 0.7268\n",
      "Epoch 9/30\n",
      "50/50 [==============================] - 1s 17ms/step - loss: 0.1236 - accuracy: 0.9699 - val_loss: 0.8412 - val_accuracy: 0.7343\n",
      "Epoch 10/30\n",
      "50/50 [==============================] - 1s 17ms/step - loss: 0.1083 - accuracy: 0.9730 - val_loss: 0.8464 - val_accuracy: 0.7469\n",
      "Epoch 11/30\n",
      "50/50 [==============================] - 1s 18ms/step - loss: 0.0849 - accuracy: 0.9824 - val_loss: 0.9410 - val_accuracy: 0.7343\n",
      "Epoch 12/30\n",
      "50/50 [==============================] - 1s 17ms/step - loss: 0.0971 - accuracy: 0.9768 - val_loss: 0.9144 - val_accuracy: 0.7494\n",
      "Epoch 13/30\n",
      "50/50 [==============================] - 1s 17ms/step - loss: 0.0810 - accuracy: 0.9812 - val_loss: 0.9536 - val_accuracy: 0.7419\n",
      "Epoch 14/30\n",
      "50/50 [==============================] - 1s 16ms/step - loss: 0.0567 - accuracy: 0.9900 - val_loss: 1.1168 - val_accuracy: 0.7393\n",
      "Epoch 15/30\n",
      "50/50 [==============================] - 1s 17ms/step - loss: 0.0468 - accuracy: 0.9937 - val_loss: 1.0580 - val_accuracy: 0.7544\n",
      "Epoch 16/30\n",
      "50/50 [==============================] - 1s 17ms/step - loss: 0.0414 - accuracy: 0.9937 - val_loss: 1.1293 - val_accuracy: 0.7519\n",
      "Epoch 17/30\n",
      "50/50 [==============================] - 1s 16ms/step - loss: 0.0366 - accuracy: 0.9944 - val_loss: 1.1172 - val_accuracy: 0.7544\n",
      "Epoch 18/30\n",
      "50/50 [==============================] - 1s 16ms/step - loss: 0.0337 - accuracy: 0.9944 - val_loss: 1.1755 - val_accuracy: 0.7494\n",
      "Epoch 19/30\n",
      "50/50 [==============================] - 1s 16ms/step - loss: 0.0311 - accuracy: 0.9950 - val_loss: 1.2110 - val_accuracy: 0.7519\n",
      "Epoch 20/30\n",
      "50/50 [==============================] - 1s 17ms/step - loss: 0.0292 - accuracy: 0.9950 - val_loss: 1.2261 - val_accuracy: 0.7544\n",
      "Epoch 21/30\n",
      "50/50 [==============================] - 1s 17ms/step - loss: 0.0277 - accuracy: 0.9956 - val_loss: 1.2579 - val_accuracy: 0.7544\n",
      "Epoch 22/30\n",
      "50/50 [==============================] - 1s 16ms/step - loss: 0.0260 - accuracy: 0.9956 - val_loss: 1.3066 - val_accuracy: 0.7469\n",
      "Epoch 23/30\n",
      "50/50 [==============================] - 1s 17ms/step - loss: 0.0410 - accuracy: 0.9893 - val_loss: 1.4566 - val_accuracy: 0.7168\n",
      "Epoch 24/30\n",
      "50/50 [==============================] - 1s 16ms/step - loss: 0.0479 - accuracy: 0.9874 - val_loss: 1.1634 - val_accuracy: 0.7393\n",
      "Epoch 25/30\n",
      "50/50 [==============================] - 1s 16ms/step - loss: 0.0623 - accuracy: 0.9824 - val_loss: 1.1871 - val_accuracy: 0.7393\n",
      "Epoch 26/30\n",
      "50/50 [==============================] - 1s 16ms/step - loss: 0.0499 - accuracy: 0.9874 - val_loss: 1.2527 - val_accuracy: 0.7569\n",
      "Epoch 27/30\n",
      "50/50 [==============================] - 1s 17ms/step - loss: 0.0280 - accuracy: 0.9950 - val_loss: 1.3600 - val_accuracy: 0.7243\n",
      "Epoch 28/30\n",
      "50/50 [==============================] - 1s 18ms/step - loss: 0.0209 - accuracy: 0.9975 - val_loss: 1.3265 - val_accuracy: 0.7444\n",
      "Epoch 29/30\n",
      "50/50 [==============================] - 1s 18ms/step - loss: 0.0255 - accuracy: 0.9956 - val_loss: 1.2030 - val_accuracy: 0.7769\n",
      "Epoch 30/30\n",
      "50/50 [==============================] - 1s 17ms/step - loss: 0.0412 - accuracy: 0.9912 - val_loss: 1.2452 - val_accuracy: 0.7494\n"
     ]
    },
    {
     "data": {
      "image/png": "[encoded data removed]",
      "text/plain": [
       "<Figure size 432x288 with 1 Axes>"
      ]
     },
     "metadata": {
      "needs_background": "light"
     },
     "output_type": "display_data"
    },
    {
     "data": {
      "image/png": "[encoded data removed]",
      "text/plain": [
       "<Figure size 432x288 with 1 Axes>"
      ]
     },
     "metadata": {
      "needs_background": "light"
     },
     "output_type": "display_data"
    },
    {
     "name": "stdout",
     "output_type": "stream",
     "text": [
      "[  4 281  16  25   0   0   0   0   0   0   0   0   0   0   0   0   0   0\n",
      "   0   0   0   0   0   0   0   0   0   0   0   0   0   0   0   0   0   0\n",
      "   0   0   0   0   0   0   0   0   0   0   0   0   0   0]\n",
      "I love this phone\n",
      "[0.99825525]\n",
      "\n",
      "\n",
      "[812 227 864 100 775   9 525 843   0   0   0   0   0   0   0   0   0   0\n",
      "   0   0   0   0   0   0   0   0   0   0   0   0   0   0   0   0   0   0\n",
      "   0   0   0   0   0   0   0   0   0   0   0   0   0   0]\n",
      "Everything was cold\n",
      "[0.029147]\n",
      "\n",
      "\n",
      "[812 227 864 100 775   9 109   8 333 731  24  61   4 171  59  77   0   0\n",
      "   0   0   0   0   0   0   0   0   0   0   0   0   0   0   0   0   0   0\n",
      "   0   0   0   0   0   0   0   0   0   0   0   0   0   0]\n",
      "Everything was hot exactly as I wanted\n",
      "[0.9925528]\n",
      "\n",
      "\n",
      "[812 227 864 100 775   9 157 359 853   0   0   0   0   0   0   0   0   0\n",
      "   0   0   0   0   0   0   0   0   0   0   0   0   0   0   0   0   0   0\n",
      "   0   0   0   0   0   0   0   0   0   0   0   0   0   0]\n",
      "Everything was green\n",
      "[0.07416338]\n",
      "\n",
      "\n",
      "[  1 109 228 540 237 635 241 423 340  89 298   0   0   0   0   0   0   0\n",
      "   0   0   0   0   0   0   0   0   0   0   0   0   0   0   0   0   0   0\n",
      "   0   0   0   0   0   0   0   0   0   0   0   0   0   0]\n",
      "the host seated us immediately\n",
      "[0.994691]\n",
      "\n",
      "\n",
      "[154 242  47 635 341  12 569 547 147 319 775 125  85   0   0   0   0   0\n",
      "   0   0   0   0   0   0   0   0   0   0   0   0   0   0   0   0   0   0\n",
      "   0   0   0   0   0   0   0   0   0   0   0   0   0   0]\n",
      "they gave us free chocolate cake\n",
      "[0.9956]\n",
      "\n",
      "\n",
      "[158 190 853 782   8 607 775 210 232 146 775 470  67 305 101  15   1 328\n",
      " 296  26  19   1 661 641 195   0   0   0   0   0   0   0   0   0   0   0\n",
      "   0   0   0   0   0   0   0   0   0   0   0   0   0   0]\n",
      "we couldn't hear each other talk because of the shouting in the kitchen\n",
      "[0.00254807]\n",
      "\n",
      "\n"
     ]
    }
   ],
   "source": [
    "# Define the model\n",
    "model_bidi_lstm = tf.keras.Sequential([\n",
    "    tf.keras.layers.Embedding(vocab_size, embedding_dim, input_length=max_length),\n",
    "    tf.keras.layers.Bidirectional(tf.keras.layers.LSTM(embedding_dim)), \n",
    "    tf.keras.layers.Dense(6, activation='relu'), \n",
    "    tf.keras.layers.Dense(1, activation='sigmoid')\n",
    "])\n",
    "# Compile and train the model and then show the predictions for our extra sentences\n",
    "fit_model_and_show_results(model_bidi_lstm, fake_reviews)"
   ]
  },
  {
   "cell_type": "markdown",
   "metadata": {},
   "source": [
    "4. Add multiple biderectional layers (2)"
   ]
  },
  {
   "cell_type": "code",
   "execution_count": 11,
   "metadata": {},
   "outputs": [
    {
     "name": "stdout",
     "output_type": "stream",
     "text": [
      "Model: \"sequential_2\"\n",
      "_________________________________________________________________\n",
      " Layer (type)                Output Shape              Param #   \n",
      "=================================================================\n",
      " embedding_2 (Embedding)     (None, 50, 16)            16000     \n",
      "                                                                 \n",
      " bidirectional_1 (Bidirectio  (None, 50, 32)           4224      \n",
      " nal)                                                            \n",
      "                                                                 \n",
      " bidirectional_2 (Bidirectio  (None, 32)               6272      \n",
      " nal)                                                            \n",
      "                                                                 \n",
      " dense_4 (Dense)             (None, 6)                 198       \n",
      "                                                                 \n",
      " dense_5 (Dense)             (None, 1)                 7         \n",
      "                                                                 \n",
      "=================================================================\n",
      "Total params: 26,701\n",
      "Trainable params: 26,701\n",
      "Non-trainable params: 0\n",
      "_________________________________________________________________\n",
      "Epoch 1/30\n",
      "50/50 [==============================] - 8s 57ms/step - loss: 0.6931 - accuracy: 0.4934 - val_loss: 0.6954 - val_accuracy: 0.4110\n",
      "Epoch 2/30\n",
      "50/50 [==============================] - 2s 32ms/step - loss: 0.6897 - accuracy: 0.5223 - val_loss: 0.7042 - val_accuracy: 0.4110\n",
      "Epoch 3/30\n",
      "50/50 [==============================] - 2s 31ms/step - loss: 0.6124 - accuracy: 0.6817 - val_loss: 0.5245 - val_accuracy: 0.7694\n",
      "Epoch 4/30\n",
      "50/50 [==============================] - 2s 31ms/step - loss: 0.4124 - accuracy: 0.8349 - val_loss: 0.5049 - val_accuracy: 0.7694\n",
      "Epoch 5/30\n",
      "50/50 [==============================] - 2s 32ms/step - loss: 0.3079 - accuracy: 0.8870 - val_loss: 0.5175 - val_accuracy: 0.7719\n",
      "Epoch 6/30\n",
      "50/50 [==============================] - 2s 32ms/step - loss: 0.2417 - accuracy: 0.9222 - val_loss: 0.6425 - val_accuracy: 0.7419\n",
      "Epoch 7/30\n",
      "50/50 [==============================] - 2s 31ms/step - loss: 0.2102 - accuracy: 0.9322 - val_loss: 0.6693 - val_accuracy: 0.7343\n",
      "Epoch 8/30\n",
      "50/50 [==============================] - 2s 32ms/step - loss: 0.1725 - accuracy: 0.9535 - val_loss: 0.7790 - val_accuracy: 0.7343\n",
      "Epoch 9/30\n",
      "50/50 [==============================] - 2s 36ms/step - loss: 0.1569 - accuracy: 0.9586 - val_loss: 0.7452 - val_accuracy: 0.7393\n",
      "Epoch 10/30\n",
      "50/50 [==============================] - 2s 34ms/step - loss: 0.1317 - accuracy: 0.9667 - val_loss: 0.8914 - val_accuracy: 0.7193\n",
      "Epoch 11/30\n",
      "50/50 [==============================] - 2s 33ms/step - loss: 0.1396 - accuracy: 0.9598 - val_loss: 0.8713 - val_accuracy: 0.7193\n",
      "Epoch 12/30\n",
      "50/50 [==============================] - 2s 33ms/step - loss: 0.1207 - accuracy: 0.9699 - val_loss: 0.8427 - val_accuracy: 0.7268\n",
      "Epoch 13/30\n",
      "50/50 [==============================] - 2s 33ms/step - loss: 0.0919 - accuracy: 0.9818 - val_loss: 1.0436 - val_accuracy: 0.7118\n",
      "Epoch 14/30\n",
      "50/50 [==============================] - 2s 36ms/step - loss: 0.1087 - accuracy: 0.9749 - val_loss: 0.8554 - val_accuracy: 0.7494\n",
      "Epoch 15/30\n",
      "50/50 [==============================] - 2s 38ms/step - loss: 0.1422 - accuracy: 0.9598 - val_loss: 0.8349 - val_accuracy: 0.7469\n",
      "Epoch 16/30\n",
      "50/50 [==============================] - 2s 40ms/step - loss: 0.1099 - accuracy: 0.9718 - val_loss: 0.8497 - val_accuracy: 0.7494\n",
      "Epoch 17/30\n",
      "50/50 [==============================] - 2s 40ms/step - loss: 0.0870 - accuracy: 0.9831 - val_loss: 0.9226 - val_accuracy: 0.7419\n",
      "Epoch 18/30\n",
      "50/50 [==============================] - 2s 36ms/step - loss: 0.0807 - accuracy: 0.9849 - val_loss: 0.9076 - val_accuracy: 0.7544\n",
      "Epoch 19/30\n",
      "50/50 [==============================] - 2s 33ms/step - loss: 0.0742 - accuracy: 0.9862 - val_loss: 0.9573 - val_accuracy: 0.7544\n",
      "Epoch 20/30\n",
      "50/50 [==============================] - 2s 33ms/step - loss: 0.0730 - accuracy: 0.9862 - val_loss: 0.9701 - val_accuracy: 0.7569\n",
      "Epoch 21/30\n",
      "50/50 [==============================] - 2s 36ms/step - loss: 0.0725 - accuracy: 0.9862 - val_loss: 0.9677 - val_accuracy: 0.7544\n",
      "Epoch 22/30\n",
      "50/50 [==============================] - 2s 35ms/step - loss: 0.0721 - accuracy: 0.9862 - val_loss: 0.9769 - val_accuracy: 0.7569\n",
      "Epoch 23/30\n",
      "50/50 [==============================] - 2s 38ms/step - loss: 0.0723 - accuracy: 0.9862 - val_loss: 0.9689 - val_accuracy: 0.7569\n",
      "Epoch 24/30\n",
      "50/50 [==============================] - 2s 34ms/step - loss: 0.0715 - accuracy: 0.9862 - val_loss: 0.9768 - val_accuracy: 0.7594\n",
      "Epoch 25/30\n",
      "50/50 [==============================] - 2s 33ms/step - loss: 0.0714 - accuracy: 0.9862 - val_loss: 0.9746 - val_accuracy: 0.7594\n",
      "Epoch 26/30\n",
      "50/50 [==============================] - 2s 34ms/step - loss: 0.0710 - accuracy: 0.9862 - val_loss: 0.9774 - val_accuracy: 0.7619\n",
      "Epoch 27/30\n",
      "50/50 [==============================] - 2s 33ms/step - loss: 0.0711 - accuracy: 0.9862 - val_loss: 0.9749 - val_accuracy: 0.7619\n",
      "Epoch 28/30\n",
      "50/50 [==============================] - 2s 33ms/step - loss: 0.0705 - accuracy: 0.9862 - val_loss: 0.9863 - val_accuracy: 0.7619\n",
      "Epoch 29/30\n",
      "50/50 [==============================] - 2s 33ms/step - loss: 0.0703 - accuracy: 0.9862 - val_loss: 0.9665 - val_accuracy: 0.7644\n",
      "Epoch 30/30\n",
      "50/50 [==============================] - 2s 33ms/step - loss: 0.0671 - accuracy: 0.9868 - val_loss: 1.0321 - val_accuracy: 0.7544\n"
     ]
    },
    {
     "data": {
      "image/png": "[encoded data removed]",
      "text/plain": [
       "<Figure size 432x288 with 1 Axes>"
      ]
     },
     "metadata": {
      "needs_background": "light"
     },
     "output_type": "display_data"
    },
    {
     "data": {
      "image/png": "[encoded data removed]",
      "text/plain": [
       "<Figure size 432x288 with 1 Axes>"
      ]
     },
     "metadata": {
      "needs_background": "light"
     },
     "output_type": "display_data"
    },
    {
     "name": "stdout",
     "output_type": "stream",
     "text": [
      "[  4 281  16  25   0   0   0   0   0   0   0   0   0   0   0   0   0   0\n",
      "   0   0   0   0   0   0   0   0   0   0   0   0   0   0   0   0   0   0\n",
      "   0   0   0   0   0   0   0   0   0   0   0   0   0   0]\n",
      "I love this phone\n",
      "[0.9943634]\n",
      "\n",
      "\n",
      "[812 227 864 100 775   9 525 843   0   0   0   0   0   0   0   0   0   0\n",
      "   0   0   0   0   0   0   0   0   0   0   0   0   0   0   0   0   0   0\n",
      "   0   0   0   0   0   0   0   0   0   0   0   0   0   0]\n",
      "Everything was cold\n",
      "[0.01778185]\n",
      "\n",
      "\n",
      "[812 227 864 100 775   9 109   8 333 731  24  61   4 171  59  77   0   0\n",
      "   0   0   0   0   0   0   0   0   0   0   0   0   0   0   0   0   0   0\n",
      "   0   0   0   0   0   0   0   0   0   0   0   0   0   0]\n",
      "Everything was hot exactly as I wanted\n",
      "[0.02609065]\n",
      "\n",
      "\n",
      "[812 227 864 100 775   9 157 359 853   0   0   0   0   0   0   0   0   0\n",
      "   0   0   0   0   0   0   0   0   0   0   0   0   0   0   0   0   0   0\n",
      "   0   0   0   0   0   0   0   0   0   0   0   0   0   0]\n",
      "Everything was green\n",
      "[0.01712993]\n",
      "\n",
      "\n",
      "[  1 109 228 540 237 635 241 423 340  89 298   0   0   0   0   0   0   0\n",
      "   0   0   0   0   0   0   0   0   0   0   0   0   0   0   0   0   0   0\n",
      "   0   0   0   0   0   0   0   0   0   0   0   0   0   0]\n",
      "the host seated us immediately\n",
      "[0.01870817]\n",
      "\n",
      "\n",
      "[154 242  47 635 341  12 569 547 147 319 775 125  85   0   0   0   0   0\n",
      "   0   0   0   0   0   0   0   0   0   0   0   0   0   0   0   0   0   0\n",
      "   0   0   0   0   0   0   0   0   0   0   0   0   0   0]\n",
      "they gave us free chocolate cake\n",
      "[0.9890133]\n",
      "\n",
      "\n",
      "[158 190 853 782   8 607 775 210 232 146 775 470  67 305 101  15   1 328\n",
      " 296  26  19   1 661 641 195   0   0   0   0   0   0   0   0   0   0   0\n",
      "   0   0   0   0   0   0   0   0   0   0   0   0   0   0]\n",
      "we couldn't hear each other talk because of the shouting in the kitchen\n",
      "[0.01722708]\n",
      "\n",
      "\n"
     ]
    }
   ],
   "source": [
    "model_multiple_bidi_lstm = tf.keras.Sequential([\n",
    "    tf.keras.layers.Embedding(vocab_size, embedding_dim, input_length=max_length),\n",
    "    tf.keras.layers.Bidirectional(tf.keras.layers.LSTM(embedding_dim, \n",
    "                                    return_sequences=True)), \n",
    "    tf.keras.layers.Bidirectional(tf.keras.layers.LSTM(embedding_dim)),\n",
    "    tf.keras.layers.Dense(6, activation='relu'),\n",
    "    tf.keras.layers.Dense(1, activation='sigmoid')\n",
    "])\n",
    "\n",
    "fit_model_and_show_results(model_multiple_bidi_lstm, fake_reviews)"
   ]
  },
  {
   "cell_type": "markdown",
   "metadata": {},
   "source": [
    "5. Comparing the predictions for the previous models"
   ]
  },
  {
   "cell_type": "code",
   "execution_count": 12,
   "metadata": {},
   "outputs": [],
   "source": [
    "# We will compare the results for the three models:\n",
    "#   - Embeddings and a Global Average Pooling layer\n",
    "#   - Embeddings and a Bidirectional LSTM layer\n",
    "#   - Embeddings and 2 Birectional LSTM layers\n",
    "\n",
    "my_reviews =[\"lovely\", \"dreadful\", \"stay away\",\n",
    "            \"everything was hot exactly as I wanted\",\n",
    "            \"everything was not exactly as I wanted\",\n",
    "            \"they gave us free chocolate cake\",\n",
    "            \"I've never eaten anything so spicy in my life, my throat burned for hours\",\n",
    "            \"for a phone that is as expensive as this one I expect it to be much easier to use than this thing is\",\n",
    "            \"we left there very full for a low price so I'd say you just can't go wrong at this place\",\n",
    "            \"that place does not have quality meals and it isn't a good place to go for dinner\",\n",
    "            ]"
   ]
  },
  {
   "cell_type": "code",
   "execution_count": 13,
   "metadata": {},
   "outputs": [
    {
     "name": "stdout",
     "output_type": "stream",
     "text": [
      "Embeddings and Global Average Pooling layer:\n",
      "\n",
      "lovely\n",
      "[0.94326764]\n",
      "\n",
      "\n",
      "dreadful\n",
      "[0.34654933]\n",
      "\n",
      "\n",
      "stay away\n",
      "[0.6966634]\n",
      "\n",
      "\n",
      "everything was hot exactly as I wanted\n",
      "[0.77050877]\n",
      "\n",
      "\n",
      "everything was not exactly as I wanted\n",
      "[0.5518987]\n",
      "\n",
      "\n",
      "they gave us free chocolate cake\n",
      "[0.7565109]\n",
      "\n",
      "\n",
      "I've never eaten anything so spicy in my life, my throat burned for hours\n",
      "[0.02312931]\n",
      "\n",
      "\n",
      "for a phone that is as expensive as this one I expect it to be much easier to use than this thing is\n",
      "[0.63400745]\n",
      "\n",
      "\n",
      "we left there very full for a low price so I'd say you just can't go wrong at this place\n",
      "[0.8064456]\n",
      "\n",
      "\n",
      "that place does not have quality meals and it isn't a good place to go for dinner\n",
      "[0.86883605]\n",
      "\n",
      "\n"
     ]
    }
   ],
   "source": [
    "print(\"Embeddings and Global Average Pooling layer:\\n\")\n",
    "predict_review(model, my_reviews, show_padded_sequence=False)"
   ]
  },
  {
   "cell_type": "code",
   "execution_count": 14,
   "metadata": {},
   "outputs": [
    {
     "name": "stdout",
     "output_type": "stream",
     "text": [
      "Embeddings and Bidirectional LSTM layer:\n",
      "\n",
      "lovely\n",
      "[0.9835808]\n",
      "\n",
      "\n",
      "dreadful\n",
      "[0.00897285]\n",
      "\n",
      "\n",
      "stay away\n",
      "[0.01279053]\n",
      "\n",
      "\n",
      "everything was hot exactly as I wanted\n",
      "[0.9987343]\n",
      "\n",
      "\n",
      "everything was not exactly as I wanted\n",
      "[0.34681556]\n",
      "\n",
      "\n",
      "they gave us free chocolate cake\n",
      "[0.9956]\n",
      "\n",
      "\n",
      "I've never eaten anything so spicy in my life, my throat burned for hours\n",
      "[0.00376588]\n",
      "\n",
      "\n",
      "for a phone that is as expensive as this one I expect it to be much easier to use than this thing is\n",
      "[0.97715986]\n",
      "\n",
      "\n",
      "we left there very full for a low price so I'd say you just can't go wrong at this place\n",
      "[0.9999682]\n",
      "\n",
      "\n",
      "that place does not have quality meals and it isn't a good place to go for dinner\n",
      "[0.0056493]\n",
      "\n",
      "\n"
     ]
    }
   ],
   "source": [
    "print(\"Embeddings and Bidirectional LSTM layer:\\n\")\n",
    "predict_review(model_bidi_lstm, my_reviews, show_padded_sequence=False)"
   ]
  },
  {
   "cell_type": "code",
   "execution_count": 15,
   "metadata": {},
   "outputs": [
    {
     "name": "stdout",
     "output_type": "stream",
     "text": [
      "Embeddings and 2 Bidirectional LSTM layers:\n",
      "\n",
      "lovely\n",
      "[0.99442333]\n",
      "\n",
      "\n",
      "dreadful\n",
      "[0.01494637]\n",
      "\n",
      "\n",
      "stay away\n",
      "[0.04431921]\n",
      "\n",
      "\n",
      "everything was hot exactly as I wanted\n",
      "[0.05246297]\n",
      "\n",
      "\n",
      "everything was not exactly as I wanted\n",
      "[0.01562929]\n",
      "\n",
      "\n",
      "they gave us free chocolate cake\n",
      "[0.9890133]\n",
      "\n",
      "\n",
      "I've never eaten anything so spicy in my life, my throat burned for hours\n",
      "[0.01451507]\n",
      "\n",
      "\n",
      "for a phone that is as expensive as this one I expect it to be much easier to use than this thing is\n",
      "[0.01561949]\n",
      "\n",
      "\n",
      "we left there very full for a low price so I'd say you just can't go wrong at this place\n",
      "[0.01654321]\n",
      "\n",
      "\n",
      "that place does not have quality meals and it isn't a good place to go for dinner\n",
      "[0.6197384]\n",
      "\n",
      "\n"
     ]
    }
   ],
   "source": [
    "print(\"Embeddings and 2 Bidirectional LSTM layers:\\n\")\n",
    "predict_review(model_multiple_bidi_lstm, my_reviews, show_padded_sequence=False)"
   ]
  }
 ],
 "metadata": {
  "interpreter": {
   "hash": "fe68149fe8549fceca107e62d5023ede2ad6b4760e922d52c26df0ecc2fe7792"
  },
  "kernelspec": {
   "display_name": "Python 3.9.7 64-bit",
   "language": "python",
   "name": "python3"
  },
  "language_info": {
   "codemirror_mode": {
    "name": "ipython",
    "version": 3
   },
   "file_extension": ".py",
   "mimetype": "text/x-python",
   "name": "python",
   "nbconvert_exporter": "python",
   "pygments_lexer": "ipython3",
   "version": "3.9.7"
  },
  "orig_nbformat": 4
 },
 "nbformat": 4,
 "nbformat_minor": 2
}
