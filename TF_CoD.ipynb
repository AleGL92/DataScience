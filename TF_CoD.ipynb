{
 "cells": [
  {
   "cell_type": "markdown",
   "metadata": {},
   "source": [
    "IMAGE CLASSIFICATION FOR A CAT AND DOG DATASET"
   ]
  },
  {
   "cell_type": "code",
   "execution_count": 56,
   "metadata": {},
   "outputs": [],
   "source": [
    "# Image classification of a cat and dogs dataset\n",
    "import matplotlib.pyplot as plt\n",
    "import numpy as np\n",
    "import tensorflow as tf\n",
    "import tensorflow_datasets as tfds\n",
    "from tensorflow import keras\n",
    "import math as math"
   ]
  },
  {
   "cell_type": "code",
   "execution_count": 57,
   "metadata": {},
   "outputs": [
    {
     "name": "stdout",
     "output_type": "stream",
     "text": [
      "tfds.core.DatasetInfo(\n",
      "    name='horses_or_humans',\n",
      "    full_name='horses_or_humans/3.0.0',\n",
      "    description=\"\"\"\n",
      "    A large set of images of horses and humans.\n",
      "    \"\"\",\n",
      "    homepage='http://laurencemoroney.com/horses-or-humans-dataset',\n",
      "    data_path='C:\\\\Users\\\\garci\\\\tensorflow_datasets\\\\horses_or_humans\\\\3.0.0',\n",
      "    download_size=153.59 MiB,\n",
      "    dataset_size=153.53 MiB,\n",
      "    features=FeaturesDict({\n",
      "        'image': Image(shape=(300, 300, 3), dtype=tf.uint8),\n",
      "        'label': ClassLabel(shape=(), dtype=tf.int64, num_classes=2),\n",
      "    }),\n",
      "    supervised_keys=('image', 'label'),\n",
      "    disable_shuffling=False,\n",
      "    splits={\n",
      "        'test': <SplitInfo num_examples=256, num_shards=1>,\n",
      "        'train': <SplitInfo num_examples=1027, num_shards=2>,\n",
      "    },\n",
      "    citation=\"\"\"@ONLINE {horses_or_humans,\n",
      "    author = \"Laurence Moroney\",\n",
      "    title = \"Horses or Humans Dataset\",\n",
      "    month = \"feb\",\n",
      "    year = \"2019\",\n",
      "    url = \"http://laurencemoroney.com/horses-or-humans-dataset\"\n",
      "    }\"\"\",\n",
      ")\n"
     ]
    }
   ],
   "source": [
    "tfds.disable_progress_bar()\n",
    "builder = tfds.builder('horses_or_humans')\n",
    "info = builder.info\n",
    "print(info)\n",
    "# print(tfds.list_builders())"
   ]
  },
  {
   "cell_type": "code",
   "execution_count": 58,
   "metadata": {},
   "outputs": [],
   "source": [
    "ds_train = tfds.load(name=\"horses_or_humans\", split=\"train\")\n",
    "ds_test = tfds.load(name=\"horses_or_humans\", split=\"test\")"
   ]
  },
  {
   "cell_type": "code",
   "execution_count": 59,
   "metadata": {},
   "outputs": [
    {
     "name": "stdout",
     "output_type": "stream",
     "text": [
      "<class 'numpy.ndarray'>\n",
      "(1027, 300, 300)\n",
      "<class 'numpy.ndarray'>\n",
      "(256, 300, 300)\n"
     ]
    }
   ],
   "source": [
    "train_images = np.array([example['image'].numpy()[:,:,0] for example in ds_train])\n",
    "train_labels = np.array([example['label'].numpy() for example in ds_train])\n",
    "print(type(train_images[0]))\n",
    "print(train_images.shape)\n",
    "test_images = np.array([example['image'].numpy()[:,:,0] for example in ds_test])\n",
    "test_labels = np.array([example['label'].numpy() for example in ds_test])\n",
    "print(type(test_images[0]))\n",
    "print(test_images.shape)"
   ]
  },
  {
   "cell_type": "code",
   "execution_count": 60,
   "metadata": {},
   "outputs": [
    {
     "name": "stdout",
     "output_type": "stream",
     "text": [
      "float32\n"
     ]
    }
   ],
   "source": [
    "train_images = train_images.reshape(1027, 300, 300, 1)\n",
    "test_images = test_images.reshape(256, 300, 300, 1)\n",
    "train_images = train_images.astype('float32')\n",
    "test_images = test_images.astype('float32')\n",
    "train_images /= 255\n",
    "test_images /= 255\n",
    "# print(train_images[0])\n",
    "print(train_images.dtype)"
   ]
  },
  {
   "cell_type": "markdown",
   "metadata": {},
   "source": [
    "Dense layer model"
   ]
  },
  {
   "cell_type": "code",
   "execution_count": 61,
   "metadata": {},
   "outputs": [
    {
     "name": "stdout",
     "output_type": "stream",
     "text": [
      "Epoch 1/5\n",
      "33/33 [==============================] - 8s 203ms/step - loss: 20.3004 - accuracy: 0.5463\n",
      "Epoch 2/5\n",
      "33/33 [==============================] - 7s 213ms/step - loss: 3.0008 - accuracy: 0.6777\n",
      "Epoch 3/5\n",
      "33/33 [==============================] - 6s 193ms/step - loss: 1.7850 - accuracy: 0.7244\n",
      "Epoch 4/5\n",
      "33/33 [==============================] - 7s 200ms/step - loss: 3.2827 - accuracy: 0.6563\n",
      "Epoch 5/5\n",
      "33/33 [==============================] - 7s 206ms/step - loss: 1.1663 - accuracy: 0.8062\n",
      "8/8 [==============================] - 0s 34ms/step - loss: 3.2923 - accuracy: 0.6172\n"
     ]
    },
    {
     "data": {
      "text/plain": [
       "[3.292283058166504, 0.6171875]"
      ]
     },
     "execution_count": 61,
     "metadata": {},
     "output_type": "execute_result"
    }
   ],
   "source": [
    "model = keras.Sequential([\n",
    "keras.layers.Flatten(),\n",
    "keras.layers.Dense(512, activation='relu'),\n",
    "keras.layers.Dense(256, activation='relu'),\n",
    "keras.layers.Dense(2, activation='softmax')\n",
    "])\n",
    "\n",
    "model.compile(optimizer='adam',\n",
    "loss=keras.losses.SparseCategoricalCrossentropy(),\n",
    "metrics=['accuracy'])\n",
    "\n",
    "model.fit(train_images, train_labels, epochs=5, batch_size=32)\n",
    "\n",
    "model.evaluate(test_images, test_labels)\n",
    "# accuracy: 0.5000"
   ]
  },
  {
   "cell_type": "markdown",
   "metadata": {},
   "source": [
    "Convolutional model"
   ]
  },
  {
   "cell_type": "code",
   "execution_count": 62,
   "metadata": {},
   "outputs": [
    {
     "name": "stdout",
     "output_type": "stream",
     "text": [
      "Epoch 1/5\n",
      "33/33 [==============================] - 23s 695ms/step - loss: 0.6971 - accuracy: 0.6991\n",
      "Epoch 2/5\n",
      "33/33 [==============================] - 23s 682ms/step - loss: 0.2916 - accuracy: 0.8880\n",
      "Epoch 3/5\n",
      "33/33 [==============================] - 24s 706ms/step - loss: 0.1183 - accuracy: 0.9552\n",
      "Epoch 4/5\n",
      "33/33 [==============================] - 22s 667ms/step - loss: 0.0425 - accuracy: 0.9883\n",
      "Epoch 5/5\n",
      "33/33 [==============================] - 22s 668ms/step - loss: 0.0279 - accuracy: 0.9942\n",
      "8/8 [==============================] - 1s 165ms/step - loss: 0.8548 - accuracy: 0.8711\n"
     ]
    },
    {
     "data": {
      "text/plain": [
       "[0.8547549843788147, 0.87109375]"
      ]
     },
     "execution_count": 62,
     "metadata": {},
     "output_type": "execute_result"
    }
   ],
   "source": [
    "model = keras.Sequential([\n",
    "keras.layers.AveragePooling2D(6, 3, input_shape = (300, 300, 1)),\n",
    "keras.layers.Conv2D(64, 3, activation = 'relu'),\n",
    "keras.layers.Conv2D(32, 3, activation = 'relu'),\n",
    "keras.layers.MaxPool2D(2, 2),\n",
    "keras.layers.Dropout(0.5),            \n",
    "keras.layers.Flatten(),\n",
    "keras.layers.Dense(128, activation = 'relu'),\n",
    "keras.layers.Dense(2, activation = 'softmax')\n",
    "])\n",
    "\n",
    "model.compile(optimizer = 'adam', \n",
    "loss = keras.losses.SparseCategoricalCrossentropy(), \n",
    "metrics = ['accuracy'])\n",
    "\n",
    "model.fit(train_images, train_labels, epochs=5, batch_size=32)\n",
    "model.evaluate(test_images, test_labels)\n",
    "# accuracy: 0.7461"
   ]
  },
  {
   "cell_type": "markdown",
   "metadata": {},
   "source": [
    "Plotting some results"
   ]
  },
  {
   "cell_type": "code",
   "execution_count": 71,
   "metadata": {},
   "outputs": [
    {
     "name": "stdout",
     "output_type": "stream",
     "text": [
      "Predicted value: 1\n"
     ]
    },
    {
     "data": {
      "image/png": "[encoded data removed]",
      "text/plain": [
       "<Figure size 432x288 with 1 Axes>"
      ]
     },
     "metadata": {
      "needs_background": "light"
     },
     "output_type": "display_data"
    }
   ],
   "source": [
    "im_num = 19\n",
    "result = model.predict(np.array([test_images[im_num]]))\n",
    "# print(result)\n",
    "predicted_value = np.argmax(result)\n",
    "print(f'Predicted value: {predicted_value}')\n",
    "\n",
    "image = test_images[im_num].reshape(300,300)\n",
    "plt.imshow(image, cmap = 'Greys_r')\n",
    "plt.show()"
   ]
  }
 ],
 "metadata": {
  "interpreter": {
   "hash": "fe68149fe8549fceca107e62d5023ede2ad6b4760e922d52c26df0ecc2fe7792"
  },
  "kernelspec": {
   "display_name": "Python 3.9.7 64-bit",
   "language": "python",
   "name": "python3"
  },
  "language_info": {
   "codemirror_mode": {
    "name": "ipython",
    "version": 3
   },
   "file_extension": ".py",
   "mimetype": "text/x-python",
   "name": "python",
   "nbconvert_exporter": "python",
   "pygments_lexer": "ipython3",
   "version": "3.9.7"
  },
  "orig_nbformat": 4
 },
 "nbformat": 4,
 "nbformat_minor": 2
}
